{
 "cells": [
  {
   "cell_type": "code",
   "execution_count": 1,
   "id": "fc5426d6",
   "metadata": {},
   "outputs": [],
   "source": [
    "import numpy as np\n",
    "import pandas as pd"
   ]
  },
  {
   "cell_type": "code",
   "execution_count": 2,
   "id": "c760d450",
   "metadata": {},
   "outputs": [],
   "source": [
    "url = 'https://raw.githubusercontent.com/justmarkham/DAT8/master/data/chipotle.tsv'\n",
    "chipo = pd.read_csv(url, sep = '\\t')"
   ]
  },
  {
   "cell_type": "code",
   "execution_count": 3,
   "id": "c0d89f67",
   "metadata": {
    "scrolled": true
   },
   "outputs": [
    {
     "data": {
      "text/html": [
       "<div>\n",
       "<style scoped>\n",
       "    .dataframe tbody tr th:only-of-type {\n",
       "        vertical-align: middle;\n",
       "    }\n",
       "\n",
       "    .dataframe tbody tr th {\n",
       "        vertical-align: top;\n",
       "    }\n",
       "\n",
       "    .dataframe thead th {\n",
       "        text-align: right;\n",
       "    }\n",
       "</style>\n",
       "<table border=\"1\" class=\"dataframe\">\n",
       "  <thead>\n",
       "    <tr style=\"text-align: right;\">\n",
       "      <th></th>\n",
       "      <th>order_id</th>\n",
       "      <th>quantity</th>\n",
       "      <th>item_name</th>\n",
       "      <th>choice_description</th>\n",
       "      <th>item_price</th>\n",
       "    </tr>\n",
       "  </thead>\n",
       "  <tbody>\n",
       "    <tr>\n",
       "      <th>0</th>\n",
       "      <td>1</td>\n",
       "      <td>1</td>\n",
       "      <td>Chips and Fresh Tomato Salsa</td>\n",
       "      <td>NaN</td>\n",
       "      <td>$2.39</td>\n",
       "    </tr>\n",
       "    <tr>\n",
       "      <th>1</th>\n",
       "      <td>1</td>\n",
       "      <td>1</td>\n",
       "      <td>Izze</td>\n",
       "      <td>[Clementine]</td>\n",
       "      <td>$3.39</td>\n",
       "    </tr>\n",
       "    <tr>\n",
       "      <th>2</th>\n",
       "      <td>1</td>\n",
       "      <td>1</td>\n",
       "      <td>Nantucket Nectar</td>\n",
       "      <td>[Apple]</td>\n",
       "      <td>$3.39</td>\n",
       "    </tr>\n",
       "    <tr>\n",
       "      <th>3</th>\n",
       "      <td>1</td>\n",
       "      <td>1</td>\n",
       "      <td>Chips and Tomatillo-Green Chili Salsa</td>\n",
       "      <td>NaN</td>\n",
       "      <td>$2.39</td>\n",
       "    </tr>\n",
       "    <tr>\n",
       "      <th>4</th>\n",
       "      <td>2</td>\n",
       "      <td>2</td>\n",
       "      <td>Chicken Bowl</td>\n",
       "      <td>[Tomatillo-Red Chili Salsa (Hot), [Black Beans...</td>\n",
       "      <td>$16.98</td>\n",
       "    </tr>\n",
       "    <tr>\n",
       "      <th>...</th>\n",
       "      <td>...</td>\n",
       "      <td>...</td>\n",
       "      <td>...</td>\n",
       "      <td>...</td>\n",
       "      <td>...</td>\n",
       "    </tr>\n",
       "    <tr>\n",
       "      <th>4617</th>\n",
       "      <td>1833</td>\n",
       "      <td>1</td>\n",
       "      <td>Steak Burrito</td>\n",
       "      <td>[Fresh Tomato Salsa, [Rice, Black Beans, Sour ...</td>\n",
       "      <td>$11.75</td>\n",
       "    </tr>\n",
       "    <tr>\n",
       "      <th>4618</th>\n",
       "      <td>1833</td>\n",
       "      <td>1</td>\n",
       "      <td>Steak Burrito</td>\n",
       "      <td>[Fresh Tomato Salsa, [Rice, Sour Cream, Cheese...</td>\n",
       "      <td>$11.75</td>\n",
       "    </tr>\n",
       "    <tr>\n",
       "      <th>4619</th>\n",
       "      <td>1834</td>\n",
       "      <td>1</td>\n",
       "      <td>Chicken Salad Bowl</td>\n",
       "      <td>[Fresh Tomato Salsa, [Fajita Vegetables, Pinto...</td>\n",
       "      <td>$11.25</td>\n",
       "    </tr>\n",
       "    <tr>\n",
       "      <th>4620</th>\n",
       "      <td>1834</td>\n",
       "      <td>1</td>\n",
       "      <td>Chicken Salad Bowl</td>\n",
       "      <td>[Fresh Tomato Salsa, [Fajita Vegetables, Lettu...</td>\n",
       "      <td>$8.75</td>\n",
       "    </tr>\n",
       "    <tr>\n",
       "      <th>4621</th>\n",
       "      <td>1834</td>\n",
       "      <td>1</td>\n",
       "      <td>Chicken Salad Bowl</td>\n",
       "      <td>[Fresh Tomato Salsa, [Fajita Vegetables, Pinto...</td>\n",
       "      <td>$8.75</td>\n",
       "    </tr>\n",
       "  </tbody>\n",
       "</table>\n",
       "<p>4622 rows × 5 columns</p>\n",
       "</div>"
      ],
      "text/plain": [
       "      order_id  quantity                              item_name  \\\n",
       "0            1         1           Chips and Fresh Tomato Salsa   \n",
       "1            1         1                                   Izze   \n",
       "2            1         1                       Nantucket Nectar   \n",
       "3            1         1  Chips and Tomatillo-Green Chili Salsa   \n",
       "4            2         2                           Chicken Bowl   \n",
       "...        ...       ...                                    ...   \n",
       "4617      1833         1                          Steak Burrito   \n",
       "4618      1833         1                          Steak Burrito   \n",
       "4619      1834         1                     Chicken Salad Bowl   \n",
       "4620      1834         1                     Chicken Salad Bowl   \n",
       "4621      1834         1                     Chicken Salad Bowl   \n",
       "\n",
       "                                     choice_description item_price  \n",
       "0                                                   NaN     $2.39   \n",
       "1                                          [Clementine]     $3.39   \n",
       "2                                               [Apple]     $3.39   \n",
       "3                                                   NaN     $2.39   \n",
       "4     [Tomatillo-Red Chili Salsa (Hot), [Black Beans...    $16.98   \n",
       "...                                                 ...        ...  \n",
       "4617  [Fresh Tomato Salsa, [Rice, Black Beans, Sour ...    $11.75   \n",
       "4618  [Fresh Tomato Salsa, [Rice, Sour Cream, Cheese...    $11.75   \n",
       "4619  [Fresh Tomato Salsa, [Fajita Vegetables, Pinto...    $11.25   \n",
       "4620  [Fresh Tomato Salsa, [Fajita Vegetables, Lettu...     $8.75   \n",
       "4621  [Fresh Tomato Salsa, [Fajita Vegetables, Pinto...     $8.75   \n",
       "\n",
       "[4622 rows x 5 columns]"
      ]
     },
     "execution_count": 3,
     "metadata": {},
     "output_type": "execute_result"
    }
   ],
   "source": [
    "chipo"
   ]
  },
  {
   "cell_type": "code",
   "execution_count": 4,
   "id": "9c0b33c4",
   "metadata": {},
   "outputs": [
    {
     "data": {
      "text/html": [
       "<div>\n",
       "<style scoped>\n",
       "    .dataframe tbody tr th:only-of-type {\n",
       "        vertical-align: middle;\n",
       "    }\n",
       "\n",
       "    .dataframe tbody tr th {\n",
       "        vertical-align: top;\n",
       "    }\n",
       "\n",
       "    .dataframe thead th {\n",
       "        text-align: right;\n",
       "    }\n",
       "</style>\n",
       "<table border=\"1\" class=\"dataframe\">\n",
       "  <thead>\n",
       "    <tr style=\"text-align: right;\">\n",
       "      <th></th>\n",
       "      <th>order_id</th>\n",
       "      <th>quantity</th>\n",
       "    </tr>\n",
       "  </thead>\n",
       "  <tbody>\n",
       "    <tr>\n",
       "      <th>count</th>\n",
       "      <td>4622.000000</td>\n",
       "      <td>4622.000000</td>\n",
       "    </tr>\n",
       "    <tr>\n",
       "      <th>mean</th>\n",
       "      <td>927.254868</td>\n",
       "      <td>1.075725</td>\n",
       "    </tr>\n",
       "    <tr>\n",
       "      <th>std</th>\n",
       "      <td>528.890796</td>\n",
       "      <td>0.410186</td>\n",
       "    </tr>\n",
       "    <tr>\n",
       "      <th>min</th>\n",
       "      <td>1.000000</td>\n",
       "      <td>1.000000</td>\n",
       "    </tr>\n",
       "    <tr>\n",
       "      <th>25%</th>\n",
       "      <td>477.250000</td>\n",
       "      <td>1.000000</td>\n",
       "    </tr>\n",
       "    <tr>\n",
       "      <th>50%</th>\n",
       "      <td>926.000000</td>\n",
       "      <td>1.000000</td>\n",
       "    </tr>\n",
       "    <tr>\n",
       "      <th>75%</th>\n",
       "      <td>1393.000000</td>\n",
       "      <td>1.000000</td>\n",
       "    </tr>\n",
       "    <tr>\n",
       "      <th>max</th>\n",
       "      <td>1834.000000</td>\n",
       "      <td>15.000000</td>\n",
       "    </tr>\n",
       "  </tbody>\n",
       "</table>\n",
       "</div>"
      ],
      "text/plain": [
       "          order_id     quantity\n",
       "count  4622.000000  4622.000000\n",
       "mean    927.254868     1.075725\n",
       "std     528.890796     0.410186\n",
       "min       1.000000     1.000000\n",
       "25%     477.250000     1.000000\n",
       "50%     926.000000     1.000000\n",
       "75%    1393.000000     1.000000\n",
       "max    1834.000000    15.000000"
      ]
     },
     "execution_count": 4,
     "metadata": {},
     "output_type": "execute_result"
    }
   ],
   "source": [
    "chipo.describe()"
   ]
  },
  {
   "cell_type": "code",
   "execution_count": 5,
   "id": "d16ceed4",
   "metadata": {},
   "outputs": [
    {
     "name": "stdout",
     "output_type": "stream",
     "text": [
      "<class 'pandas.core.frame.DataFrame'>\n",
      "RangeIndex: 4622 entries, 0 to 4621\n",
      "Data columns (total 5 columns):\n",
      " #   Column              Non-Null Count  Dtype \n",
      "---  ------              --------------  ----- \n",
      " 0   order_id            4622 non-null   int64 \n",
      " 1   quantity            4622 non-null   int64 \n",
      " 2   item_name           4622 non-null   object\n",
      " 3   choice_description  3376 non-null   object\n",
      " 4   item_price          4622 non-null   object\n",
      "dtypes: int64(2), object(3)\n",
      "memory usage: 180.7+ KB\n"
     ]
    }
   ],
   "source": [
    "chipo.info()"
   ]
  },
  {
   "cell_type": "markdown",
   "id": "cf12f2cb",
   "metadata": {},
   "source": [
    "# 1. Which was the most-ordered item?\n",
    "are Chips and Fresh Tomato Salsa with order id 1443 and was ordert 15 times"
   ]
  },
  {
   "cell_type": "code",
   "execution_count": 6,
   "id": "e6e60184",
   "metadata": {},
   "outputs": [
    {
     "name": "stdout",
     "output_type": "stream",
     "text": [
      "The most-ordered item was Chips and Fresh Tomato Salsa\n"
     ]
    }
   ],
   "source": [
    "item = chipo.groupby(by=[\"order_id\",\"item_name\"]).sum().sort_values(by=[\"quantity\"],ascending=False).head(1).reset_index()[[\"item_name\"]].iloc[0,0]\n",
    "print(\"The most-ordered item was \" + item)"
   ]
  },
  {
   "cell_type": "markdown",
   "id": "8b0cbd91",
   "metadata": {},
   "source": [
    "# 2. For the most-ordered item, how many items were ordered?"
   ]
  },
  {
   "cell_type": "code",
   "execution_count": 7,
   "id": "31e1b541",
   "metadata": {},
   "outputs": [
    {
     "name": "stdout",
     "output_type": "stream",
     "text": [
      "Chips and Fresh Tomato Salsa was ordered 15 times\n"
     ]
    }
   ],
   "source": [
    "number_of_items = chipo.groupby(by=[\"order_id\",\"item_name\"]).sum().sort_values(by=[\"quantity\"],ascending=False).head(1).reset_index()[[\"quantity\"]].iloc[0,0]\n",
    "print(\"Chips and Fresh Tomato Salsa was ordered \" +  str(number_of_items) + \" times\")"
   ]
  },
  {
   "cell_type": "markdown",
   "id": "430ded1c",
   "metadata": {},
   "source": [
    "# 3. Most orderd item from choice_description column"
   ]
  },
  {
   "cell_type": "code",
   "execution_count": 8,
   "id": "2725189b",
   "metadata": {},
   "outputs": [
    {
     "name": "stdout",
     "output_type": "stream",
     "text": [
      "Most oredered items from choice_description is Fresh Tomato Salsa and was ordered 1046 times.\n"
     ]
    }
   ],
   "source": [
    "choices = []\n",
    "for item in chipo[\"choice_description\"]:\n",
    "    if type(item) == str:\n",
    "        choices.append(item.replace(\"[\",\"\").replace(\"]\",\"\").split(\",\")[0])\n",
    "\n",
    "item = pd.Series(choices).value_counts().head(1).reset_index().iloc[0,0]\n",
    "item_count = pd.Series(choices).value_counts().head(1).reset_index().iloc[0,1]\n",
    "print(\"Most oredered items from choice_description is \" +  item + \" and was ordered \" + str(item_count) + \" times.\" )"
   ]
  },
  {
   "cell_type": "markdown",
   "id": "6470668e",
   "metadata": {},
   "source": [
    "# 4. How many items were ordered in total?"
   ]
  },
  {
   "cell_type": "code",
   "execution_count": 9,
   "id": "c4ebeb99",
   "metadata": {},
   "outputs": [
    {
     "name": "stdout",
     "output_type": "stream",
     "text": [
      "Totaly was ordered 4972 items\n"
     ]
    }
   ],
   "source": [
    "total_items_ordered = chipo[\"quantity\"].sum()\n",
    "print(\"Totaly was ordered \" + str(total_items_ordered) + \" items\")"
   ]
  },
  {
   "cell_type": "markdown",
   "id": "9891a1d1",
   "metadata": {},
   "source": [
    "# 5. Convert the item price into a float "
   ]
  },
  {
   "cell_type": "code",
   "execution_count": 10,
   "id": "7ae1b1d8",
   "metadata": {},
   "outputs": [
    {
     "data": {
      "text/plain": [
       "dtype('O')"
      ]
     },
     "execution_count": 10,
     "metadata": {},
     "output_type": "execute_result"
    }
   ],
   "source": [
    "chipo[\"item_price\"].dtype"
   ]
  },
  {
   "cell_type": "code",
   "execution_count": 11,
   "id": "a8a859f8",
   "metadata": {},
   "outputs": [
    {
     "data": {
      "text/plain": [
       "dtype('float64')"
      ]
     },
     "execution_count": 11,
     "metadata": {},
     "output_type": "execute_result"
    }
   ],
   "source": [
    "chipo[\"item_price\"] = chipo[\"item_price\"].str.replace(\"$\", '',regex=False).astype(float)\n",
    "chipo[\"item_price\"].dtype"
   ]
  },
  {
   "cell_type": "markdown",
   "id": "c682f39e",
   "metadata": {},
   "source": [
    "# 6. How much was the revenue for the period in the dataset?"
   ]
  },
  {
   "cell_type": "code",
   "execution_count": 12,
   "id": "6f49bf5e",
   "metadata": {},
   "outputs": [],
   "source": [
    "chipo[\"Line_Item_Price\"] = chipo[\"quantity\"] * chipo[\"item_price\"]"
   ]
  },
  {
   "cell_type": "code",
   "execution_count": 13,
   "id": "f73bfbb1",
   "metadata": {},
   "outputs": [
    {
     "name": "stdout",
     "output_type": "stream",
     "text": [
      "The revenue for the period was 39237.02\n"
     ]
    }
   ],
   "source": [
    "revenue = chipo[\"Line_Item_Price\"].sum()\n",
    "print(\"The revenue for the period was \" + str(revenue) )"
   ]
  },
  {
   "cell_type": "markdown",
   "id": "a7e9cf2e",
   "metadata": {},
   "source": [
    "# 7.How many orders were made in the period?"
   ]
  },
  {
   "cell_type": "code",
   "execution_count": 14,
   "id": "61b154f5",
   "metadata": {},
   "outputs": [
    {
     "name": "stdout",
     "output_type": "stream",
     "text": [
      "In the period was made 1834 orders\n"
     ]
    }
   ],
   "source": [
    "number_of_orders = len(chipo[\"order_id\"].unique())\n",
    "print(\"In the period was made \" + str(number_of_orders) + \" orders\")"
   ]
  },
  {
   "cell_type": "markdown",
   "id": "ed5388ba",
   "metadata": {},
   "source": [
    "# 8. What is the average revenue amount per order?"
   ]
  },
  {
   "cell_type": "code",
   "execution_count": 15,
   "id": "451403a6",
   "metadata": {},
   "outputs": [
    {
     "name": "stdout",
     "output_type": "stream",
     "text": [
      "Average revenue amount per order was $21.39\n"
     ]
    }
   ],
   "source": [
    "average_revenue_per_order = round(revenue / number_of_orders,2)\n",
    "print(\"Average revenue amount per order was $\" + str(average_revenue_per_order))"
   ]
  },
  {
   "cell_type": "markdown",
   "id": "1142f3a0",
   "metadata": {},
   "source": [
    "# 9. How many different items are sold?"
   ]
  },
  {
   "cell_type": "code",
   "execution_count": 16,
   "id": "70a48430",
   "metadata": {},
   "outputs": [
    {
     "name": "stdout",
     "output_type": "stream",
     "text": [
      "50 distinct items wasl sold for the period.\n"
     ]
    }
   ],
   "source": [
    "distinct_items_sold = len(chipo[\"item_name\"].unique())\n",
    "print(str(distinct_items_sold) + \" distinct items wasl sold for the period.\")"
   ]
  }
 ],
 "metadata": {
  "kernelspec": {
   "display_name": "Python 3 (ipykernel)",
   "language": "python",
   "name": "python3"
  },
  "language_info": {
   "codemirror_mode": {
    "name": "ipython",
    "version": 3
   },
   "file_extension": ".py",
   "mimetype": "text/x-python",
   "name": "python",
   "nbconvert_exporter": "python",
   "pygments_lexer": "ipython3",
   "version": "3.10.3"
  }
 },
 "nbformat": 4,
 "nbformat_minor": 5
}
